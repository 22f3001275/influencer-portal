{
 "cells": [
  {
   "cell_type": "code",
   "execution_count": 3,
   "metadata": {},
   "outputs": [
    {
     "name": "stdout",
     "output_type": "stream",
     "text": [
      "Current OTP: 292762\n"
     ]
    }
   ],
   "source": [
    "import pyotp\n",
    "totp = pyotp.TOTP(pyotp.random_base32())\n",
    "print(\"Current OTP:\", totp.now())\n",
    "import re"
   ]
  },
  {
   "cell_type": "code",
   "execution_count": 21,
   "metadata": {},
   "outputs": [],
   "source": [
    "def generate_completion_codes(goals):\n",
    "    goals_list = re.split(',', goals)\n",
    "    total_weights = 0\n",
    "    for goal in goals_list:\n",
    "        total_weights += int(re.split('=', goal)[1])\n",
    "    print(total_weights)\n",
    "    weight_for_100 = int(100/total_weights)\n",
    "    no_of_checkpoints = len(goals_list)\n",
    "    checkpoint_weights = [int(re.split('=', goal)[1])* weight_for_100 for goal in goals_list]\n",
    "    spare = 100 - sum(checkpoint_weights)\n",
    "\n",
    "    secret_keys = [pyotp.TOTP(pyotp.random_base32()).now() for i in range(no_of_checkpoints + 1)]\n",
    "    return {'completion':';'.join(key for key in secret_keys),\n",
    "            'no_of_checkpoints':no_of_checkpoints,\n",
    "            'checkpoint_weight': ';'.join(str(weight) for weight in checkpoint_weights),\n",
    "            'spare': spare\n",
    "            }"
   ]
  },
  {
   "cell_type": "code",
   "execution_count": 22,
   "metadata": {},
   "outputs": [
    {
     "name": "stdout",
     "output_type": "stream",
     "text": [
      "10\n"
     ]
    },
    {
     "data": {
      "text/plain": [
       "{'completion': '684640;491845;922804;480633',\n",
       " 'no_of_checkpoints': 3,\n",
       " 'checkpoint_weight': '10;40;50',\n",
       " 'spare': 0}"
      ]
     },
     "execution_count": 22,
     "metadata": {},
     "output_type": "execute_result"
    }
   ],
   "source": [
    "generate_completion_codes('a=1,v=4,b=5')"
   ]
  },
  {
   "cell_type": "code",
   "execution_count": 24,
   "metadata": {},
   "outputs": [],
   "source": [
    "def checkpoints(goals,secret_key,checkpoint_weight, spare):\n",
    "    checkpoint_weight = re.split(';', checkpoint_weight)\n",
    "    no_of_checkpoints = len(checkpoint_weight)\n",
    "    goals_list = re.split(',', goals)\n",
    "    keys = re.split(';', secret_key)\n",
    "\n",
    "    checkpoints= [[re.split('=',goal)[0]] for goal in goals_list]\n",
    "    for i in range(no_of_checkpoints):\n",
    "        checkpoints[i].extend([checkpoint_weight[i],keys[i]])\n",
    "    checkpoints.append(['Finish',spare,keys[no_of_checkpoints]])\n",
    "\n",
    "\n",
    "    return checkpoints"
   ]
  },
  {
   "cell_type": "code",
   "execution_count": null,
   "metadata": {},
   "outputs": [],
   "source": [
    "goal_list = [re.split(';', goal)[0] for goal in goal_list]"
   ]
  },
  {
   "cell_type": "code",
   "execution_count": 25,
   "metadata": {},
   "outputs": [
    {
     "data": {
      "text/plain": [
       "[['a', '10', '684640'],\n",
       " ['v', '40', '491845'],\n",
       " ['b', '50', '922804'],\n",
       " ['Finish', 0, '480633']]"
      ]
     },
     "execution_count": 25,
     "metadata": {},
     "output_type": "execute_result"
    }
   ],
   "source": [
    "checkpoints('a=1,v=4,b=5', '684640;491845;922804;480633', '10;40;50', 0)"
   ]
  }
 ],
 "metadata": {
  "kernelspec": {
   "display_name": ".influencer_portal_env",
   "language": "python",
   "name": "python3"
  },
  "language_info": {
   "codemirror_mode": {
    "name": "ipython",
    "version": 3
   },
   "file_extension": ".py",
   "mimetype": "text/x-python",
   "name": "python",
   "nbconvert_exporter": "python",
   "pygments_lexer": "ipython3",
   "version": "3.9.6"
  }
 },
 "nbformat": 4,
 "nbformat_minor": 2
}
